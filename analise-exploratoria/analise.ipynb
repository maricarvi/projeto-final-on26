{
 "cells": [
  {
   "cell_type": "code",
   "execution_count": null,
   "metadata": {},
   "outputs": [],
   "source": [
    "#Utilizar as bibliotecas de Python aprendidas em aula (e.g. pandas, matplotlib, seaborn, etc);\n",
    "#Trazer um notebook estruturado e organizado com o uso de Markdown. O uso de textos no notebook é altamente incentivado :)\n",
    "#Mínimo de 3 visualizações que ajudem a sumarizar os resultados da sua análise.\n"
   ]
  }
 ],
 "metadata": {
  "language_info": {
   "name": "python"
  },
  "orig_nbformat": 4
 },
 "nbformat": 4,
 "nbformat_minor": 2
}
